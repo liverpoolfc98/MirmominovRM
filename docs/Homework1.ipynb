{
 "cells": [
  {
   "cell_type": "code",
   "execution_count": null,
   "metadata": {},
   "outputs": [],
   "source": [
    "def main():\n",
    "    a = int(input(\"Input value: \"))\n",
    "    if a % 2 == 0:\n",
    "        if a % 4 == 0:\n",
    "            print(\"Is a multiple of 4\")\n",
    "        else:\n",
    "            print(\"Even\")\n",
    "    else:\n",
    "        print(\"Odd\")\n",
    "if __name__ == \"__main__\":\n",
    "    main()"
   ]
  },
  {
   "cell_type": "code",
   "execution_count": null,
   "metadata": {},
   "outputs": [],
   "source": [
    "def main():\n",
    "    a = int(input(\"Input value: \"))\n",
    "    l = []\n",
    "    for i in range(1,a+1):\n",
    "        if a % i == 0:\n",
    "            l.append(i)\n",
    "    if (len(l)>2):\n",
    "        print(\"Divisors: \",l)\n",
    "    else:\n",
    "        print(\"This number is prime\")\n",
    "if __name__ == \"__main__\":\n",
    "    main()"
   ]
  },
  {
   "cell_type": "code",
   "execution_count": null,
   "metadata": {},
   "outputs": [],
   "source": [
    "from random import randint\n",
    "def list_maker(num):\n",
    "    ordered_list = []\n",
    "    for i in range(4):\n",
    "        ordered_list.append(num // pow(10,4-i-1))\n",
    "        num = num % pow(10,4-i-1)\n",
    "    return ordered_list\n",
    "def main():\n",
    "    answer = randint(1000,9999)\n",
    "    true_list = list_maker(answer)\n",
    "    while True:\n",
    "        predict = int(input(\"Input value: \"))\n",
    "        users_list = list_maker(predict)\n",
    "        users_list_without_cows = []\n",
    "        true_list_without_cows = []\n",
    "        list_of_cows = []\n",
    "        for i in range(4):\n",
    "            if users_list[i] == true_list[i]:\n",
    "                list_of_cows.append(users_list[i])\n",
    "            else:\n",
    "                users_list_without_cows.append(users_list[i])\n",
    "                true_list_without_cows.append(true_list[i])\n",
    "        bulls = set(users_list_without_cows) & set(true_list_without_cows)\n",
    "        if len(list_of_cows) == 4:\n",
    "            print(\"You win\")\n",
    "            break;\n",
    "        print(len(list_of_cows),\" cows, \",len(bulls),\" bulls\")\n",
    "if __name__ == \"__main__\":\n",
    "    main()"
   ]
  },
  {
   "cell_type": "markdown",
   "metadata": {},
   "source": []
  },
  {
   "cell_type": "code",
   "execution_count": 9,
   "metadata": {},
   "outputs": [
    {
     "name": "stdout",
     "output_type": "stream",
     "text": [
      "Typhoon Mangkhut Hits China as Philippines Searches for Dozens Buried in Slides\n",
      "The satellite’s radar technology sent out pulses of energy, like camera flashes, measuring how the energy reflected off the rain and ice inside the typhoon.\n",
      "Rivers Swell as Death Toll From Hurricane Florence Rises to 14\n",
      "The Economy Is Humming, but Trump Is Tweeting. Republicans Are Worried.\n",
      "The Progressive Playbook: How These Candidates Pulled Off Their Upsets\n",
      "Primary season is finally over. Here are five things we learned.\n",
      "Where a Sore Throat Becomes a Death Sentence\n",
      "Our reporter went to Kigali to write about the type of heart disease afflicting millions of young people. Before she knew it, she was trying to help.\n",
      "Fraying Ties With Trump Put Mattis’s Fate in Doubt\n",
      "Paul Manafort Forfeits $22 Million in New York Real Estate in Plea Deal\n",
      "A Ukrainian hairdresser became a front for Mr. Manafort.\n",
      "J.K. Rowling’s Friend Robert Galbraith Has Something to Say\n",
      "Sunday Book Review: Democracy at Risk\n",
      "11 of Our Best Weekend Reads\n",
      "It isn’t all bad out there. Here’s The Week in Good News.\n",
      "Test your knowledge of the week’s headlines with our news quiz.\n",
      "The Hacking of America\n",
      "We’re Measuring the Economy All Wrong\n",
      "Medicine’s Financial Contamination\n",
      "Trump Finally Makes a Friend\n",
      "Democrats’ Top-Secret Formula for Victory\n",
      "Money Talks. Will the G.O.P. Listen?\n",
      "Conservatism After Christianity\n",
      "I Came of Age During the 2008 Financial Crisis. I’m Still Angry About It.\n",
      "The Carnage of the Cameroons\n",
      "Piano Lessons in the Panopticon\n",
      "23andMe Said He Would Lose His Mind. Ancestry Said the Opposite. Which Was Right?\n",
      "Making Wills Easier and Cheaper With Do-It-Yourself Options\n",
      "Vows: A Playwright and a Songwriter, Finding the Right Words\n",
      "How Valerie Steele, Fashion Curator, Spends Her Sundays\n"
     ]
    }
   ],
   "source": [
    "import requests\n",
    "import lxml\n",
    "from bs4 import BeautifulSoup\n",
    "def main():\n",
    "    r = requests.get('http://www.nytimes.com')\n",
    "    soup = BeautifulSoup(r.text, \"lxml\")\n",
    "    for story_heading in soup.find_all(class_=\"css-1li2vl esl82me2\"): \n",
    "        print(story_heading.h2.text)\n",
    "if __name__ == \"__main__\":\n",
    "    main()"
   ]
  },
  {
   "cell_type": "code",
   "execution_count": null,
   "metadata": {},
   "outputs": [],
   "source": []
  }
 ],
 "metadata": {
  "kernelspec": {
   "display_name": "Python 3",
   "language": "python",
   "name": "python3"
  },
  "language_info": {
   "codemirror_mode": {
    "name": "ipython",
    "version": 3
   },
   "file_extension": ".py",
   "mimetype": "text/x-python",
   "name": "python",
   "nbconvert_exporter": "python",
   "pygments_lexer": "ipython3",
   "version": "3.6.5"
  }
 },
 "nbformat": 4,
 "nbformat_minor": 2
}
