{
 "cells": [
  {
   "cell_type": "code",
   "execution_count": null,
   "metadata": {},
   "outputs": [],
   "source": [
    "import numpy as np\n",
    "import matplotlib.pyplot as plt\n",
    "from scipy import fftpack\n",
    "img = plt.imread('http://members.cbio.mines-paristech.fr/~nvaroquaux/formations/scipy-lecture-notes/_images/moonlanding.png')\n",
    "img2_ft = fftpack.fft2(img, axes = (0,1))\n",
    "mask = [abs(img2_ft) > 3100]\n",
    "img2_ft[tuple(mask)] = 0\n",
    "img2 = fftpack.ifft2(img2_ft, axes = (0,1)).real\n",
    "plt.figure(figsize = [10,15])\n",
    "plt.imshow(img)\n",
    "plt.title('Not denoised image')\n",
    "plt.show()\n",
    "plt.figure(figsize = [10,15])\n",
    "plt.imshow(img2)\n",
    "plt.title('Denoised image')\n",
    "plt.show()\n"
   ]
  },
  {
   "cell_type": "markdown",
   "metadata": {},
   "source": [
    "___Exercise: Curve fitting of temperature data___"
   ]
  },
  {
   "cell_type": "code",
   "execution_count": null,
   "metadata": {},
   "outputs": [],
   "source": [
    "from scipy.optimize import curve_fit\n",
    "def f(x, a, b, c, d):\n",
    "    return a * np.cos(b*x + c) + d\n",
    "max_ = np.array([17, 19, 21, 28, 33, 38, 37,37, 31, 23, 19, 18])\n",
    "min_ = np.array([-62,-59,-56,-46,-32,-18,-9,-13,-25,-46,-52,-58])\n",
    "time = np.array([1,2,3,4,5,6,7,8,9,10,11,12])\n",
    "guess = [60, 1/4, -6,-60]\n",
    "params, params_covariance = curve_fit(f, time, min_, guess)\n",
    "guess = [20, 1/4, -6, 20]\n",
    "params_, params_covariance_ = curve_fit(f, time, max_, guess)\n",
    "plt.figure(figsize = [10,15])\n",
    "plt.plot(time,min_, label = \"min\")\n",
    "plt.plot(time, f(time, params[0],params[1],params[2],params[3]), label = \"min function\")\n",
    "plt.plot(time,max_, label = \"max\")\n",
    "plt.plot(time, f(time, params_[0],params_[1],params_[2],params_[3]), label = \"max function\")\n",
    "plt.legend()\n",
    "plt.show()"
   ]
  },
  {
   "cell_type": "markdown",
   "metadata": {},
   "source": [
    "___Exercise: 2-D minimization___"
   ]
  },
  {
   "cell_type": "code",
   "execution_count": null,
   "metadata": {},
   "outputs": [],
   "source": [
    "from mpl_toolkits.mplot3d import Axes3D\n",
    "from scipy import optimize\n",
    "\n",
    "def func(x):\n",
    "    return (4 - 2.1 *x[0]*x[0]+x[0]*x[0]*x[0]*x[0]/3)*x[0]*x[0] + x[0]*x[1] + (4*x[1]*x[1]-4) * x[1]*x[1]\n",
    "x = np.linspace(-2, 2)\n",
    "y = np.linspace(-1, 1)\n",
    "xg, yg = np.meshgrid(x, y)\n",
    "fig = plt.figure()\n",
    "ax = fig.add_subplot(111, projection='3d')\n",
    "surf = ax.plot_surface(xg, yg, func([xg, yg]), rstride=1, cstride=1,\n",
    "                       cmap=plt.cm.jet, linewidth=0, antialiased=False)\n",
    "rranges = (slice(-2, 2, 0.25), slice(-1, 1, 0.25))\n",
    "resbrute = optimize.brute(func, rranges, full_output=True, finish=optimize.fmin)\n",
    "ax.set_xlabel('x')\n",
    "ax.set_ylabel('y')\n",
    "ax.set_zlabel('f(x, y)')\n",
    "print(\"Global minimum = \", resbrute[0], \"\\n\")\n",
    "print(\"Function value = \", resbrute[1], \"\\n\")"
   ]
  },
  {
   "cell_type": "markdown",
   "metadata": {},
   "source": [
    "___1.5.11.13. Maximum wind speed prediction at the Sprogø station___"
   ]
  },
  {
   "cell_type": "code",
   "execution_count": null,
   "metadata": {},
   "outputs": [],
   "source": [
    "import numpy as np\n",
    "from scipy.interpolate import UnivariateSpline\n",
    "import pylab as pl\n",
    "\n",
    "\n",
    "def gumbell_dist(arr):\n",
    "    return -np.log(-np.log(arr))\n",
    "\n",
    "years_nb = 21\n",
    "wspeeds = np.load('sprog-windspeeds.npy')\n",
    "max_speeds = np.array([arr.max() for arr in np.array_split(wspeeds, years_nb)])\n",
    "sorted_max_speeds = np.sort(max_speeds)\n",
    "\n",
    "cprob = (np.arange(years_nb, dtype=np.float32) + 1)/(years_nb + 1)\n",
    "gprob = gumbell_dist(cprob)\n",
    "speed_spline = UnivariateSpline(gprob, sorted_max_speeds, k=1)\n",
    "nprob = gumbell_dist(np.linspace(1e-3, 1-1e-3, 1e2))\n",
    "fitted_max_speeds = speed_spline(nprob)\n",
    "\n",
    "fifty_prob = gumbell_dist(49./50.)\n",
    "fifty_wind = speed_spline(fifty_prob)\n",
    "\n",
    "pl.figure()\n",
    "pl.bar(np.arange(years_nb) + 1, max_speeds)\n",
    "pl.axis('tight')\n",
    "pl.xlabel('Year')"
   ]
  },
  {
   "cell_type": "code",
   "execution_count": null,
   "metadata": {},
   "outputs": [],
   "source": [
    "import numpy as np\n",
    "from scipy.interpolate import UnivariateSpline\n",
    "import pylab as pl\n",
    "\n",
    "\n",
    "def gumbell_dist(arr):\n",
    "    return -np.log(-np.log(arr))\n",
    "\n",
    "years_nb = 21\n",
    "wspeeds = np.load('sprog-windspeeds.npy')\n",
    "max_speeds = np.array([arr.max() for arr in np.array_split(wspeeds, years_nb)])\n",
    "sorted_max_speeds = np.sort(max_speeds)\n",
    "\n",
    "cprob = (np.arange(years_nb, dtype=np.float32) + 1)/(years_nb + 1)\n",
    "gprob = gumbell_dist(cprob)\n",
    "speed_spline = UnivariateSpline(gprob, sorted_max_speeds, k=1)\n",
    "nprob = gumbell_dist(np.linspace(1e-3, 1-1e-3, 1e2))\n",
    "fitted_max_speeds = speed_spline(nprob)\n",
    "\n",
    "fifty_prob = gumbell_dist(49./50.)\n",
    "fifty_wind = speed_spline(fifty_prob)\n",
    "\n",
    "pl.figure()\n",
    "pl.plot(sorted_max_speeds, gprob, 'o')\n",
    "pl.plot(fitted_max_speeds, nprob, 'g--')\n",
    "pl.plot([fifty_wind], [fifty_prob], 'o', ms=8., mfc='y', mec='y')\n",
    "pl.plot([fifty_wind, fifty_wind], [pl.axis()[2], fifty_prob], 'k--')\n",
    "pl.text(35, -1, r'$V_{50} = %.2f \\, m/s$' % fifty_wind)\n",
    "pl.xlabel('Annual wind speed maxima [$m/s$]')\n",
    "pl.ylabel('Gumbell cumulative probability')\n",
    "pl.show()"
   ]
  },
  {
   "cell_type": "markdown",
   "metadata": {},
   "source": [
    "___1.5.11.16. Example of solution for the image processing exercise: unmolten grains in glass___"
   ]
  },
  {
   "cell_type": "code",
   "execution_count": null,
   "metadata": {},
   "outputs": [],
   "source": [
    "import numpy as np\n",
    "import pylab as pl\n",
    "from scipy import ndimage\n",
    "import matplotlib.pyplot as plt"
   ]
  },
  {
   "cell_type": "code",
   "execution_count": null,
   "metadata": {},
   "outputs": [],
   "source": [
    "dat = pl.imread('MV_HFV_012.jpg')\n",
    "dat = dat[60:]\n",
    "filtdat = ndimage.median_filter(dat, size=(7,7))\n",
    "hi_dat = np.histogram(dat, bins=np.arange(256))\n",
    "hi_filtdat = np.histogram(filtdat, bins=np.arange(256))\n",
    "#plt.hist(filtdat, bins=np.arange(256))\n",
    "#plt.show()\n",
    "void = filtdat <= 50\n",
    "sand = np.logical_and(filtdat > 50, filtdat <= 114)\n",
    "glass = filtdat > 114\n",
    "phases = void.astype(np.int) + 2*glass.astype(np.int) + 3*sand.astype(np.int)\n",
    "sand_op = ndimage.binary_opening(sand, iterations=2)\n",
    "sand_labels, sand_nb = ndimage.label(sand_op)\n",
    "sand_areas = np.array(ndimage.sum(sand_op, sand_labels, np.arange(sand_labels.max()+1)))\n",
    "mask = sand_areas > 100\n",
    "remove_small_sand = mask[sand_labels.ravel()].reshape(sand_labels.shape)\n",
    "bubbles_labels, bubbles_nb = ndimage.label(void)\n",
    "bubbles_areas = np.bincount(bubbles_labels.ravel())[1:]\n",
    "mean_bubble_size = bubbles_areas.mean()\n",
    "median_bubble_size = np.median(bubbles_areas)\n",
    "mean_bubble_size, median_bubble_size"
   ]
  },
  {
   "cell_type": "code",
   "execution_count": null,
   "metadata": {},
   "outputs": [],
   "source": []
  }
 ],
 "metadata": {
  "kernelspec": {
   "display_name": "Python 3",
   "language": "python",
   "name": "python3"
  },
  "language_info": {
   "codemirror_mode": {
    "name": "ipython",
    "version": 3
   },
   "file_extension": ".py",
   "mimetype": "text/x-python",
   "name": "python",
   "nbconvert_exporter": "python",
   "pygments_lexer": "ipython3",
   "version": "3.7.0"
  }
 },
 "nbformat": 4,
 "nbformat_minor": 2
}
